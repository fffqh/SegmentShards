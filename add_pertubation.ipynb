{
 "cells": [
  {
   "cell_type": "code",
   "execution_count": null,
   "metadata": {},
   "outputs": [],
   "source": [
    "import os\n",
    "import cv2\n",
    "import torch\n",
    "import numpy as np\n",
    "import matplotlib.pyplot as plt\n",
    "from torchmetrics.functional import structural_similarity_index_measure\n"
   ]
  },
  {
   "cell_type": "code",
   "execution_count": null,
   "metadata": {},
   "outputs": [],
   "source": [
    "src_path = './advDataset/advApollo/'\n",
    "out_path = './perDataset/perApollo/'\n",
    "\n",
    "assert os.path.exists(src_path), \"src path does not exist!\"\n",
    "if not os.path.exists(out_path):\n",
    "    os.makedirs(out_path)\n"
   ]
  },
  {
   "cell_type": "code",
   "execution_count": null,
   "metadata": {},
   "outputs": [],
   "source": [
    "def makeNoisyImage(\n",
    "    img:np.ndarray,\n",
    "    sigma:int=30,\n",
    ")->np.ndarray:\n",
    "    img_height, img_width, img_channels = img.shape\n",
    "    mean = 0\n",
    "    _sigma = sigma\n",
    "    gauss = np.random.normal(mean,_sigma,(img_height,img_width,img_channels))\n",
    "    noisy_img = img + gauss\n",
    "    noisy_img = np.clip(noisy_img,a_min=0,a_max=255)\n",
    "    return noisy_img\n"
   ]
  },
  {
   "cell_type": "code",
   "execution_count": null,
   "metadata": {},
   "outputs": [],
   "source": [
    "files = os.listdir(src_path)\n",
    "for f in files:\n",
    "    if f[0] == '.':\n",
    "        continue\n",
    "    noisy_path = os.path.join(out_path, f)\n",
    "    if os.path.exists(noisy_path):\n",
    "        print(\"skip:\", f)\n",
    "        continue\n",
    "    img = cv2.imread(os.path.join(src_path, f))\n",
    "    noisy_img = makeNoisyImage(img, 30)\n",
    "    cv2.imwrite(noisy_path,noisy_img)\n",
    "    print(\"add pertubation:\", f)\n"
   ]
  },
  {
   "cell_type": "code",
   "execution_count": null,
   "metadata": {},
   "outputs": [],
   "source": []
  }
 ],
 "metadata": {
  "kernelspec": {
   "display_name": "Python 3 (ipykernel)",
   "language": "python",
   "name": "python3"
  },
  "language_info": {
   "codemirror_mode": {
    "name": "ipython",
    "version": 3
   },
   "file_extension": ".py",
   "mimetype": "text/x-python",
   "name": "python",
   "nbconvert_exporter": "python",
   "pygments_lexer": "ipython3",
   "version": "3.8.10"
  }
 },
 "nbformat": 4,
 "nbformat_minor": 4
}
